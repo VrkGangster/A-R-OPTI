{
 "cells": [
  {
   "cell_type": "code",
   "execution_count": 1,
   "metadata": {},
   "outputs": [],
   "source": [
    "import pandas as pd\n",
    "import numpy as np\n",
    "import seaborn as sns"
   ]
  },
  {
   "cell_type": "code",
   "execution_count": 2,
   "metadata": {},
   "outputs": [],
   "source": [
    "import matplotlib.pyplot as plt\n",
    "%matplotlib inline"
   ]
  },
  {
   "cell_type": "code",
   "execution_count": 3,
   "metadata": {},
   "outputs": [],
   "source": [
    "from sklearn.cluster import KMeans"
   ]
  },
  {
   "cell_type": "code",
   "execution_count": 4,
   "metadata": {},
   "outputs": [],
   "source": [
    "df=pd.read_excel('Centroid Training Data.xlsx')"
   ]
  },
  {
   "cell_type": "code",
   "execution_count": 5,
   "metadata": {},
   "outputs": [
    {
     "data": {
      "text/html": [
       "<div>\n",
       "<style scoped>\n",
       "    .dataframe tbody tr th:only-of-type {\n",
       "        vertical-align: middle;\n",
       "    }\n",
       "\n",
       "    .dataframe tbody tr th {\n",
       "        vertical-align: top;\n",
       "    }\n",
       "\n",
       "    .dataframe thead th {\n",
       "        text-align: right;\n",
       "    }\n",
       "</style>\n",
       "<table border=\"1\" class=\"dataframe\">\n",
       "  <thead>\n",
       "    <tr style=\"text-align: right;\">\n",
       "      <th></th>\n",
       "      <th>FPC Time</th>\n",
       "      <th>TeleCast Time</th>\n",
       "      <th>Event Name</th>\n",
       "      <th>Job ID</th>\n",
       "      <th>Duration</th>\n",
       "      <th>SOM</th>\n",
       "      <th>Segment</th>\n",
       "      <th>Spot Type</th>\n",
       "      <th>RODP Deal Category</th>\n",
       "      <th>Agency</th>\n",
       "      <th>Client</th>\n",
       "      <th>Brand</th>\n",
       "      <th>Language</th>\n",
       "      <th>BookingNumber</th>\n",
       "      <th>Spot Rate</th>\n",
       "      <th>Commercial Duration</th>\n",
       "      <th>Telecast Date</th>\n",
       "      <th>Breakwise Commercial Total</th>\n",
       "      <th>Product</th>\n",
       "    </tr>\n",
       "  </thead>\n",
       "  <tbody>\n",
       "    <tr>\n",
       "      <th>0</th>\n",
       "      <td>00:00:00</td>\n",
       "      <td>23:58:00</td>\n",
       "      <td>DR. MUNIR KHAN_SLOT _EP_S1</td>\n",
       "      <td>1006</td>\n",
       "      <td>00:30:00:00</td>\n",
       "      <td>00:00:00:00</td>\n",
       "      <td>1.0</td>\n",
       "      <td>P</td>\n",
       "      <td>NaN</td>\n",
       "      <td>NaN</td>\n",
       "      <td>NaN</td>\n",
       "      <td>NaN</td>\n",
       "      <td>NaN</td>\n",
       "      <td>NaN</td>\n",
       "      <td>NaN</td>\n",
       "      <td>02:30:05:00</td>\n",
       "      <td>2018-12-16</td>\n",
       "      <td>NaN</td>\n",
       "      <td>NaN</td>\n",
       "    </tr>\n",
       "    <tr>\n",
       "      <th>1</th>\n",
       "      <td>NaN</td>\n",
       "      <td>00:28:00</td>\n",
       "      <td>Disclaimer</td>\n",
       "      <td>c002535</td>\n",
       "      <td>00:00:05:00</td>\n",
       "      <td>00:00:00:00</td>\n",
       "      <td>NaN</td>\n",
       "      <td>PR</td>\n",
       "      <td>NaN</td>\n",
       "      <td>NaN</td>\n",
       "      <td>NaN</td>\n",
       "      <td>NaN</td>\n",
       "      <td>NaN</td>\n",
       "      <td>NaN</td>\n",
       "      <td>NaN</td>\n",
       "      <td>NaN</td>\n",
       "      <td>2018-12-16</td>\n",
       "      <td>NaN</td>\n",
       "      <td>NaN</td>\n",
       "    </tr>\n",
       "    <tr>\n",
       "      <th>2</th>\n",
       "      <td>NaN</td>\n",
       "      <td>00:28:05</td>\n",
       "      <td>UMMID EP 1 30 MIN</td>\n",
       "      <td>N013937</td>\n",
       "      <td>00:30:00:00</td>\n",
       "      <td>00:00:00:00</td>\n",
       "      <td>NaN</td>\n",
       "      <td>C</td>\n",
       "      <td>NaN</td>\n",
       "      <td>STAR MEDIA COMMUNICATION</td>\n",
       "      <td>DR. MUNIR KHAN</td>\n",
       "      <td>DR MUNIR KHAN</td>\n",
       "      <td>HINDI</td>\n",
       "      <td>18081350N</td>\n",
       "      <td>9500.0</td>\n",
       "      <td>NaN</td>\n",
       "      <td>2018-12-16</td>\n",
       "      <td>NaN</td>\n",
       "      <td>SLOT</td>\n",
       "    </tr>\n",
       "    <tr>\n",
       "      <th>3</th>\n",
       "      <td>NaN</td>\n",
       "      <td>00:58:05</td>\n",
       "      <td>UMMID EP 2 30 MIN</td>\n",
       "      <td>N013938</td>\n",
       "      <td>00:30:00:00</td>\n",
       "      <td>00:00:00:00</td>\n",
       "      <td>NaN</td>\n",
       "      <td>C</td>\n",
       "      <td>NaN</td>\n",
       "      <td>STAR MEDIA COMMUNICATION</td>\n",
       "      <td>DR. MUNIR KHAN</td>\n",
       "      <td>DR MUNIR KHAN</td>\n",
       "      <td>HINDI</td>\n",
       "      <td>18081350N</td>\n",
       "      <td>9500.0</td>\n",
       "      <td>NaN</td>\n",
       "      <td>2018-12-16</td>\n",
       "      <td>NaN</td>\n",
       "      <td>SLOT</td>\n",
       "    </tr>\n",
       "    <tr>\n",
       "      <th>4</th>\n",
       "      <td>NaN</td>\n",
       "      <td>01:28:05</td>\n",
       "      <td>UMMID EP 3 30 MIN</td>\n",
       "      <td>N013939</td>\n",
       "      <td>00:30:00:00</td>\n",
       "      <td>00:00:00:00</td>\n",
       "      <td>NaN</td>\n",
       "      <td>C</td>\n",
       "      <td>NaN</td>\n",
       "      <td>STAR MEDIA COMMUNICATION</td>\n",
       "      <td>DR. MUNIR KHAN</td>\n",
       "      <td>DR MUNIR KHAN</td>\n",
       "      <td>HINDI</td>\n",
       "      <td>18081350N</td>\n",
       "      <td>9500.0</td>\n",
       "      <td>NaN</td>\n",
       "      <td>2018-12-16</td>\n",
       "      <td>NaN</td>\n",
       "      <td>SLOT</td>\n",
       "    </tr>\n",
       "  </tbody>\n",
       "</table>\n",
       "</div>"
      ],
      "text/plain": [
       "   FPC Time TeleCast Time                  Event Name   Job ID     Duration  \\\n",
       "0  00:00:00      23:58:00  DR. MUNIR KHAN_SLOT _EP_S1     1006  00:30:00:00   \n",
       "1       NaN      00:28:00                  Disclaimer  c002535  00:00:05:00   \n",
       "2       NaN      00:28:05           UMMID EP 1 30 MIN  N013937  00:30:00:00   \n",
       "3       NaN      00:58:05           UMMID EP 2 30 MIN  N013938  00:30:00:00   \n",
       "4       NaN      01:28:05           UMMID EP 3 30 MIN  N013939  00:30:00:00   \n",
       "\n",
       "           SOM  Segment Spot Type RODP Deal Category  \\\n",
       "0  00:00:00:00      1.0         P                NaN   \n",
       "1  00:00:00:00      NaN        PR                NaN   \n",
       "2  00:00:00:00      NaN         C                NaN   \n",
       "3  00:00:00:00      NaN         C                NaN   \n",
       "4  00:00:00:00      NaN         C                NaN   \n",
       "\n",
       "                     Agency          Client          Brand Language  \\\n",
       "0                       NaN             NaN            NaN      NaN   \n",
       "1                       NaN             NaN            NaN      NaN   \n",
       "2  STAR MEDIA COMMUNICATION  DR. MUNIR KHAN  DR MUNIR KHAN    HINDI   \n",
       "3  STAR MEDIA COMMUNICATION  DR. MUNIR KHAN  DR MUNIR KHAN    HINDI   \n",
       "4  STAR MEDIA COMMUNICATION  DR. MUNIR KHAN  DR MUNIR KHAN    HINDI   \n",
       "\n",
       "  BookingNumber  Spot Rate Commercial Duration Telecast Date  \\\n",
       "0           NaN        NaN         02:30:05:00    2018-12-16   \n",
       "1           NaN        NaN                 NaN    2018-12-16   \n",
       "2     18081350N     9500.0                 NaN    2018-12-16   \n",
       "3     18081350N     9500.0                 NaN    2018-12-16   \n",
       "4     18081350N     9500.0                 NaN    2018-12-16   \n",
       "\n",
       "  Breakwise Commercial Total Product  \n",
       "0                        NaN     NaN  \n",
       "1                        NaN     NaN  \n",
       "2                        NaN    SLOT  \n",
       "3                        NaN    SLOT  \n",
       "4                        NaN    SLOT  "
      ]
     },
     "execution_count": 5,
     "metadata": {},
     "output_type": "execute_result"
    }
   ],
   "source": [
    "df.head()"
   ]
  },
  {
   "cell_type": "code",
   "execution_count": 6,
   "metadata": {},
   "outputs": [
    {
     "name": "stdout",
     "output_type": "stream",
     "text": [
      "<class 'pandas.core.frame.DataFrame'>\n",
      "RangeIndex: 1211 entries, 0 to 1210\n",
      "Data columns (total 19 columns):\n",
      "FPC Time                      42 non-null object\n",
      "TeleCast Time                 1139 non-null object\n",
      "Event Name                    1139 non-null object\n",
      "Job ID                        1139 non-null object\n",
      "Duration                      1139 non-null object\n",
      "SOM                           1139 non-null object\n",
      "Segment                       82 non-null float64\n",
      "Spot Type                     1139 non-null object\n",
      "RODP Deal Category            1044 non-null object\n",
      "Agency                        1052 non-null object\n",
      "Client                        1052 non-null object\n",
      "Brand                         1052 non-null object\n",
      "Language                      1052 non-null object\n",
      "BookingNumber                 1052 non-null object\n",
      "Spot Rate                     1052 non-null float64\n",
      "Commercial Duration           65 non-null object\n",
      "Telecast Date                 1139 non-null datetime64[ns]\n",
      "Breakwise Commercial Total    65 non-null object\n",
      "Product                       1052 non-null object\n",
      "dtypes: datetime64[ns](1), float64(2), object(16)\n",
      "memory usage: 179.8+ KB\n"
     ]
    }
   ],
   "source": [
    "df.info()"
   ]
  },
  {
   "cell_type": "code",
   "execution_count": 9,
   "metadata": {},
   "outputs": [],
   "source": [
    "maxsp=df['Spot Rate'].max()\n",
    "minsp=df['Spot Rate'].min()"
   ]
  },
  {
   "cell_type": "code",
   "execution_count": 10,
   "metadata": {},
   "outputs": [],
   "source": [
    "normalize = lambda x : x/maxsp-minsp"
   ]
  },
  {
   "cell_type": "code",
   "execution_count": 11,
   "metadata": {},
   "outputs": [
    {
     "data": {
      "text/plain": [
       "5000.0"
      ]
     },
     "execution_count": 11,
     "metadata": {},
     "output_type": "execute_result"
    }
   ],
   "source": [
    "maxsp"
   ]
  },
  {
   "cell_type": "code",
   "execution_count": 6,
   "metadata": {},
   "outputs": [],
   "source": [
    "df = df.dropna(axis=0, subset=['Spot Rate'])"
   ]
  },
  {
   "cell_type": "code",
   "execution_count": 12,
   "metadata": {},
   "outputs": [
    {
     "name": "stderr",
     "output_type": "stream",
     "text": [
      "C:\\Users\\Joel\\Anaconda\\lib\\site-packages\\matplotlib\\axes\\_axes.py:6462: UserWarning: The 'normed' kwarg is deprecated, and has been replaced by the 'density' kwarg.\n",
      "  warnings.warn(\"The 'normed' kwarg is deprecated, and has been \"\n"
     ]
    },
    {
     "data": {
      "text/plain": [
       "<matplotlib.axes._subplots.AxesSubplot at 0x197bfc0ada0>"
      ]
     },
     "execution_count": 12,
     "metadata": {},
     "output_type": "execute_result"
    },
    {
     "data": {
      "image/png": "[encoded data removed]",
      "text/plain": [
       "<Figure size 432x288 with 1 Axes>"
      ]
     },
     "metadata": {},
     "output_type": "display_data"
    }
   ],
   "source": [
    "sns.distplot(df['Spot Rate'], 50, True)"
   ]
  },
  {
   "cell_type": "code",
   "execution_count": 13,
   "metadata": {},
   "outputs": [],
   "source": [
    "KMeanCentres=np.array([1/6,0.5,5/6])"
   ]
  },
  {
   "cell_type": "code",
   "execution_count": 14,
   "metadata": {},
   "outputs": [],
   "source": [
    "kmeans=KMeans(3,'k-means++',15,300)"
   ]
  },
  {
   "cell_type": "code",
   "execution_count": 15,
   "metadata": {},
   "outputs": [],
   "source": [
    "spotrate=np.array(normalize(df['Spot Rate']))\n",
    "spotrate=spotrate.reshape(-1,1)\n",
    "pred=kmeans.fit(spotrate)"
   ]
  },
  {
   "cell_type": "code",
   "execution_count": 16,
   "metadata": {},
   "outputs": [],
   "source": [
    "centspr=kmeans.cluster_centers_\n",
    "centpri=KMeanCentres"
   ]
  },
  {
   "cell_type": "code",
   "execution_count": 17,
   "metadata": {},
   "outputs": [],
   "source": [
    "Priority=np.arange(1,9)    "
   ]
  },
  {
   "cell_type": "code",
   "execution_count": 18,
   "metadata": {},
   "outputs": [],
   "source": [
    "CentCoord=np.ones((9,2),dtype=np.complex_)\n",
    "a=0\n",
    "for i in centpri:\n",
    "    for j in centspr:\n",
    "        CentCoord[a][0]=i\n",
    "        CentCoord[a][1]=j\n",
    "        a=a+1"
   ]
  },
  {
   "cell_type": "code",
   "execution_count": 19,
   "metadata": {},
   "outputs": [],
   "source": [
    "df=df.reset_index(drop=True)"
   ]
  },
  {
   "cell_type": "code",
   "execution_count": 20,
   "metadata": {},
   "outputs": [],
   "source": [
    "df=df[df['Spot Type']=='C']"
   ]
  },
  {
   "cell_type": "code",
   "execution_count": 8,
   "metadata": {},
   "outputs": [
    {
     "data": {
      "text/html": [
       "<div>\n",
       "<style scoped>\n",
       "    .dataframe tbody tr th:only-of-type {\n",
       "        vertical-align: middle;\n",
       "    }\n",
       "\n",
       "    .dataframe tbody tr th {\n",
       "        vertical-align: top;\n",
       "    }\n",
       "\n",
       "    .dataframe thead th {\n",
       "        text-align: right;\n",
       "    }\n",
       "</style>\n",
       "<table border=\"1\" class=\"dataframe\">\n",
       "  <thead>\n",
       "    <tr style=\"text-align: right;\">\n",
       "      <th></th>\n",
       "      <th>FPC Time</th>\n",
       "      <th>TeleCast Time</th>\n",
       "      <th>Event Name</th>\n",
       "      <th>Job ID</th>\n",
       "      <th>Duration</th>\n",
       "      <th>SOM</th>\n",
       "      <th>Segment</th>\n",
       "      <th>Spot Type</th>\n",
       "      <th>RODP Deal Category</th>\n",
       "      <th>Agency</th>\n",
       "      <th>Client</th>\n",
       "      <th>Brand</th>\n",
       "      <th>Language</th>\n",
       "      <th>BookingNumber</th>\n",
       "      <th>Spot Rate</th>\n",
       "      <th>Commercial Duration</th>\n",
       "      <th>Telecast Date</th>\n",
       "      <th>Breakwise Commercial Total</th>\n",
       "      <th>Product</th>\n",
       "    </tr>\n",
       "  </thead>\n",
       "  <tbody>\n",
       "    <tr>\n",
       "      <th>27</th>\n",
       "      <td>NaN</td>\n",
       "      <td>06:08:10</td>\n",
       "      <td>NO SCAR FACE WASH REPEAT 10 SEC/NN</td>\n",
       "      <td>N014942</td>\n",
       "      <td>00:00:10:00</td>\n",
       "      <td>00:00:00:00</td>\n",
       "      <td>NaN</td>\n",
       "      <td>C</td>\n",
       "      <td>06:00 - 12:00</td>\n",
       "      <td>BLUEFOX ADVERTISERS</td>\n",
       "      <td>TORQUE PHARMACEUTICALS PVT LTD.</td>\n",
       "      <td>KETOMAC+NO SCARS</td>\n",
       "      <td>HINDI</td>\n",
       "      <td>18121070N</td>\n",
       "      <td>1000.0</td>\n",
       "      <td>NaN</td>\n",
       "      <td>2018-12-16</td>\n",
       "      <td>NaN</td>\n",
       "      <td>CREAM</td>\n",
       "    </tr>\n",
       "    <tr>\n",
       "      <th>28</th>\n",
       "      <td>NaN</td>\n",
       "      <td>06:08:20</td>\n",
       "      <td>PWL PROMO 10 SEC</td>\n",
       "      <td>NP00356</td>\n",
       "      <td>00:00:10:00</td>\n",
       "      <td>00:00:00:00</td>\n",
       "      <td>NaN</td>\n",
       "      <td>C</td>\n",
       "      <td>06:00 - 00:00</td>\n",
       "      <td>PWL SEASON 4 2018</td>\n",
       "      <td>PWL SEASON 4 2018</td>\n",
       "      <td>PWL SEASON 4 2018</td>\n",
       "      <td>HINDI</td>\n",
       "      <td>18121152N</td>\n",
       "      <td>0.0</td>\n",
       "      <td>NaN</td>\n",
       "      <td>2018-12-16</td>\n",
       "      <td>NaN</td>\n",
       "      <td>SPORTS</td>\n",
       "    </tr>\n",
       "    <tr>\n",
       "      <th>29</th>\n",
       "      <td>NaN</td>\n",
       "      <td>06:08:30</td>\n",
       "      <td>ISOTINE CREATIVE 1 10-SEC</td>\n",
       "      <td>N014850</td>\n",
       "      <td>00:00:10:00</td>\n",
       "      <td>00:00:00:00</td>\n",
       "      <td>NaN</td>\n",
       "      <td>C</td>\n",
       "      <td>06:00 - 12:00</td>\n",
       "      <td>JAGAT PHARMA</td>\n",
       "      <td>JAGAT PHARMA</td>\n",
       "      <td>ISOTINE</td>\n",
       "      <td>HINDI</td>\n",
       "      <td>18121126N</td>\n",
       "      <td>1350.0</td>\n",
       "      <td>NaN</td>\n",
       "      <td>2018-12-16</td>\n",
       "      <td>NaN</td>\n",
       "      <td>MEDICINES - HURBAL, AYURVEDIC / NATURAL</td>\n",
       "    </tr>\n",
       "    <tr>\n",
       "      <th>30</th>\n",
       "      <td>NaN</td>\n",
       "      <td>06:08:40</td>\n",
       "      <td>WARMEX PTC HEATER HUSBAND KITCHEN 15 SEC</td>\n",
       "      <td>N015128</td>\n",
       "      <td>00:00:15:00</td>\n",
       "      <td>00:00:00:00</td>\n",
       "      <td>NaN</td>\n",
       "      <td>C</td>\n",
       "      <td>06:00 - 00:00</td>\n",
       "      <td>GRAPHISADS PVT LTD.</td>\n",
       "      <td>M/S WARMEX HOME APPLIANCES</td>\n",
       "      <td>WARMEX HOME APPLIANCES</td>\n",
       "      <td>HINDI</td>\n",
       "      <td>18121186N</td>\n",
       "      <td>0.0</td>\n",
       "      <td>NaN</td>\n",
       "      <td>2018-12-16</td>\n",
       "      <td>NaN</td>\n",
       "      <td>HOME APPLIANCES</td>\n",
       "    </tr>\n",
       "    <tr>\n",
       "      <th>31</th>\n",
       "      <td>NaN</td>\n",
       "      <td>06:08:55</td>\n",
       "      <td>GYAN GUL REFRESHMENT FULL-25 SEC</td>\n",
       "      <td>N012137</td>\n",
       "      <td>00:00:25:00</td>\n",
       "      <td>00:00:00:00</td>\n",
       "      <td>NaN</td>\n",
       "      <td>C</td>\n",
       "      <td>06:00 - 00:00</td>\n",
       "      <td>MCCANN ERICKSON INDIA PVT. LTD.(N)</td>\n",
       "      <td>Coca Cola India Pvt. Ltd.</td>\n",
       "      <td>SPRITE</td>\n",
       "      <td>HINDI</td>\n",
       "      <td>18121117N</td>\n",
       "      <td>977.5</td>\n",
       "      <td>NaN</td>\n",
       "      <td>2018-12-16</td>\n",
       "      <td>NaN</td>\n",
       "      <td>BEVERAGES</td>\n",
       "    </tr>\n",
       "  </tbody>\n",
       "</table>\n",
       "</div>"
      ],
      "text/plain": [
       "   FPC Time TeleCast Time                                Event Name   Job ID  \\\n",
       "27      NaN      06:08:10        NO SCAR FACE WASH REPEAT 10 SEC/NN  N014942   \n",
       "28      NaN      06:08:20                          PWL PROMO 10 SEC  NP00356   \n",
       "29      NaN      06:08:30                 ISOTINE CREATIVE 1 10-SEC  N014850   \n",
       "30      NaN      06:08:40  WARMEX PTC HEATER HUSBAND KITCHEN 15 SEC  N015128   \n",
       "31      NaN      06:08:55          GYAN GUL REFRESHMENT FULL-25 SEC  N012137   \n",
       "\n",
       "       Duration          SOM  Segment Spot Type RODP Deal Category  \\\n",
       "27  00:00:10:00  00:00:00:00      NaN         C      06:00 - 12:00   \n",
       "28  00:00:10:00  00:00:00:00      NaN         C      06:00 - 00:00   \n",
       "29  00:00:10:00  00:00:00:00      NaN         C      06:00 - 12:00   \n",
       "30  00:00:15:00  00:00:00:00      NaN         C      06:00 - 00:00   \n",
       "31  00:00:25:00  00:00:00:00      NaN         C      06:00 - 00:00   \n",
       "\n",
       "                                Agency                           Client  \\\n",
       "27                 BLUEFOX ADVERTISERS  TORQUE PHARMACEUTICALS PVT LTD.   \n",
       "28                   PWL SEASON 4 2018                PWL SEASON 4 2018   \n",
       "29                        JAGAT PHARMA                     JAGAT PHARMA   \n",
       "30                 GRAPHISADS PVT LTD.       M/S WARMEX HOME APPLIANCES   \n",
       "31  MCCANN ERICKSON INDIA PVT. LTD.(N)        Coca Cola India Pvt. Ltd.   \n",
       "\n",
       "                     Brand Language BookingNumber  Spot Rate  \\\n",
       "27        KETOMAC+NO SCARS    HINDI     18121070N     1000.0   \n",
       "28       PWL SEASON 4 2018    HINDI     18121152N        0.0   \n",
       "29                 ISOTINE    HINDI     18121126N     1350.0   \n",
       "30  WARMEX HOME APPLIANCES    HINDI     18121186N        0.0   \n",
       "31                  SPRITE    HINDI     18121117N      977.5   \n",
       "\n",
       "   Commercial Duration Telecast Date Breakwise Commercial Total  \\\n",
       "27                 NaN    2018-12-16                        NaN   \n",
       "28                 NaN    2018-12-16                        NaN   \n",
       "29                 NaN    2018-12-16                        NaN   \n",
       "30                 NaN    2018-12-16                        NaN   \n",
       "31                 NaN    2018-12-16                        NaN   \n",
       "\n",
       "                                    Product  \n",
       "27                                    CREAM  \n",
       "28                                   SPORTS  \n",
       "29  MEDICINES - HURBAL, AYURVEDIC / NATURAL  \n",
       "30                          HOME APPLIANCES  \n",
       "31                                BEVERAGES  "
      ]
     },
     "execution_count": 8,
     "metadata": {},
     "output_type": "execute_result"
    }
   ],
   "source": [
    "df=df[df['Duration']<='00:02:00:00']\n",
    "df.head()"
   ]
  },
  {
   "cell_type": "code",
   "execution_count": 21,
   "metadata": {},
   "outputs": [
    {
     "data": {
      "text/plain": [
       "array([0.16666667, 0.5       , 0.83333333])"
      ]
     },
     "execution_count": 21,
     "metadata": {},
     "output_type": "execute_result"
    }
   ],
   "source": [
    "KMeanCentres"
   ]
  },
  {
   "cell_type": "code",
   "execution_count": 22,
   "metadata": {},
   "outputs": [
    {
     "data": {
      "text/plain": [
       "KMeans(algorithm='auto', copy_x=True, init='k-means++', max_iter=300,\n",
       "    n_clusters=3, n_init=15, n_jobs=1, precompute_distances='auto',\n",
       "    random_state=None, tol=0.0001, verbose=0)"
      ]
     },
     "execution_count": 22,
     "metadata": {},
     "output_type": "execute_result"
    }
   ],
   "source": [
    "pred"
   ]
  },
  {
   "cell_type": "code",
   "execution_count": 23,
   "metadata": {},
   "outputs": [
    {
     "data": {
      "text/plain": [
       "array([[2.34339860e-01],\n",
       "       [5.37743932e-01],\n",
       "       [8.32667268e-17]])"
      ]
     },
     "execution_count": 23,
     "metadata": {},
     "output_type": "execute_result"
    }
   ],
   "source": [
    "centspr"
   ]
  },
  {
   "cell_type": "code",
   "execution_count": 24,
   "metadata": {},
   "outputs": [
    {
     "data": {
      "text/plain": [
       "array([[1.66666667e-01+0.j, 2.34339860e-01+0.j],\n",
       "       [1.66666667e-01+0.j, 5.37743932e-01+0.j],\n",
       "       [1.66666667e-01+0.j, 8.32667268e-17+0.j],\n",
       "       [5.00000000e-01+0.j, 2.34339860e-01+0.j],\n",
       "       [5.00000000e-01+0.j, 5.37743932e-01+0.j],\n",
       "       [5.00000000e-01+0.j, 8.32667268e-17+0.j],\n",
       "       [8.33333333e-01+0.j, 2.34339860e-01+0.j],\n",
       "       [8.33333333e-01+0.j, 5.37743932e-01+0.j],\n",
       "       [8.33333333e-01+0.j, 8.32667268e-17+0.j]])"
      ]
     },
     "execution_count": 24,
     "metadata": {},
     "output_type": "execute_result"
    }
   ],
   "source": [
    "CentCoord"
   ]
  },
  {
   "cell_type": "code",
   "execution_count": 25,
   "metadata": {},
   "outputs": [],
   "source": [
    "df['IsActive']=1\n",
    "df['Priority']=1\n",
    "def update(Client):\n",
    "    if df['Client']==Client : df['IsActive']=0\n",
    "    df['Held_back_value']=int((df['no_of_breaks_miss']/df['approx_breaks_for_one'])/3)\n",
    "    Prioritize()"
   ]
  },
  {
   "cell_type": "code",
   "execution_count": 26,
   "metadata": {},
   "outputs": [],
   "source": [
    "def Prioritize():\n",
    "    temp=np.zeros(9)\n",
    "    for index in df.index():\n",
    "        i=0\n",
    "        while(i<9):\n",
    "            temp[i]=((CentCoord[i][0]-df[index]['Held_back_value'])^2)+(CentCoord[i][1]-normalize(df[index]['Spot Rate'])^2).apply(sqrt)\n",
    "        tmp=temp.min()\n",
    "        for num,tup in enumerate(temp):\n",
    "            if tup==tmp: df[index]['Priority']=num\n",
    "    sort()\n",
    "        "
   ]
  },
  {
   "cell_type": "code",
   "execution_count": 27,
   "metadata": {},
   "outputs": [],
   "source": [
    "def sort():\n",
    "    df.sort(['Priority','Spot Rate'],ascending=([False,False]))"
   ]
  },
  {
   "cell_type": "code",
   "execution_count": 28,
   "metadata": {},
   "outputs": [
    {
     "data": {
      "text/html": [
       "<div>\n",
       "<style scoped>\n",
       "    .dataframe tbody tr th:only-of-type {\n",
       "        vertical-align: middle;\n",
       "    }\n",
       "\n",
       "    .dataframe tbody tr th {\n",
       "        vertical-align: top;\n",
       "    }\n",
       "\n",
       "    .dataframe thead th {\n",
       "        text-align: right;\n",
       "    }\n",
       "</style>\n",
       "<table border=\"1\" class=\"dataframe\">\n",
       "  <thead>\n",
       "    <tr style=\"text-align: right;\">\n",
       "      <th></th>\n",
       "      <th>FPC Time</th>\n",
       "      <th>TeleCast Time</th>\n",
       "      <th>Event Name</th>\n",
       "      <th>Job ID</th>\n",
       "      <th>Duration</th>\n",
       "      <th>SOM</th>\n",
       "      <th>Segment</th>\n",
       "      <th>Spot Type</th>\n",
       "      <th>RODP Deal Category</th>\n",
       "      <th>Agency</th>\n",
       "      <th>...</th>\n",
       "      <th>Brand</th>\n",
       "      <th>Language</th>\n",
       "      <th>BookingNumber</th>\n",
       "      <th>Spot Rate</th>\n",
       "      <th>Commercial Duration</th>\n",
       "      <th>Telecast Date</th>\n",
       "      <th>Breakwise Commercial Total</th>\n",
       "      <th>Product</th>\n",
       "      <th>IsActive</th>\n",
       "      <th>Priority</th>\n",
       "    </tr>\n",
       "  </thead>\n",
       "  <tbody>\n",
       "    <tr>\n",
       "      <th>0</th>\n",
       "      <td>NaN</td>\n",
       "      <td>06:08:10</td>\n",
       "      <td>NO SCAR FACE WASH REPEAT 10 SEC/NN</td>\n",
       "      <td>N014942</td>\n",
       "      <td>00:00:10:00</td>\n",
       "      <td>00:00:00:00</td>\n",
       "      <td>NaN</td>\n",
       "      <td>C</td>\n",
       "      <td>06:00 - 12:00</td>\n",
       "      <td>BLUEFOX ADVERTISERS</td>\n",
       "      <td>...</td>\n",
       "      <td>KETOMAC+NO SCARS</td>\n",
       "      <td>HINDI</td>\n",
       "      <td>18121070N</td>\n",
       "      <td>1000.0</td>\n",
       "      <td>NaN</td>\n",
       "      <td>2018-12-16</td>\n",
       "      <td>NaN</td>\n",
       "      <td>CREAM</td>\n",
       "      <td>1</td>\n",
       "      <td>1</td>\n",
       "    </tr>\n",
       "    <tr>\n",
       "      <th>1</th>\n",
       "      <td>NaN</td>\n",
       "      <td>06:08:20</td>\n",
       "      <td>PWL PROMO 10 SEC</td>\n",
       "      <td>NP00356</td>\n",
       "      <td>00:00:10:00</td>\n",
       "      <td>00:00:00:00</td>\n",
       "      <td>NaN</td>\n",
       "      <td>C</td>\n",
       "      <td>06:00 - 00:00</td>\n",
       "      <td>PWL SEASON 4 2018</td>\n",
       "      <td>...</td>\n",
       "      <td>PWL SEASON 4 2018</td>\n",
       "      <td>HINDI</td>\n",
       "      <td>18121152N</td>\n",
       "      <td>0.0</td>\n",
       "      <td>NaN</td>\n",
       "      <td>2018-12-16</td>\n",
       "      <td>NaN</td>\n",
       "      <td>SPORTS</td>\n",
       "      <td>1</td>\n",
       "      <td>1</td>\n",
       "    </tr>\n",
       "    <tr>\n",
       "      <th>2</th>\n",
       "      <td>NaN</td>\n",
       "      <td>06:08:30</td>\n",
       "      <td>ISOTINE CREATIVE 1 10-SEC</td>\n",
       "      <td>N014850</td>\n",
       "      <td>00:00:10:00</td>\n",
       "      <td>00:00:00:00</td>\n",
       "      <td>NaN</td>\n",
       "      <td>C</td>\n",
       "      <td>06:00 - 12:00</td>\n",
       "      <td>JAGAT PHARMA</td>\n",
       "      <td>...</td>\n",
       "      <td>ISOTINE</td>\n",
       "      <td>HINDI</td>\n",
       "      <td>18121126N</td>\n",
       "      <td>1350.0</td>\n",
       "      <td>NaN</td>\n",
       "      <td>2018-12-16</td>\n",
       "      <td>NaN</td>\n",
       "      <td>MEDICINES - HURBAL, AYURVEDIC / NATURAL</td>\n",
       "      <td>1</td>\n",
       "      <td>1</td>\n",
       "    </tr>\n",
       "    <tr>\n",
       "      <th>3</th>\n",
       "      <td>NaN</td>\n",
       "      <td>06:08:40</td>\n",
       "      <td>WARMEX PTC HEATER HUSBAND KITCHEN 15 SEC</td>\n",
       "      <td>N015128</td>\n",
       "      <td>00:00:15:00</td>\n",
       "      <td>00:00:00:00</td>\n",
       "      <td>NaN</td>\n",
       "      <td>C</td>\n",
       "      <td>06:00 - 00:00</td>\n",
       "      <td>GRAPHISADS PVT LTD.</td>\n",
       "      <td>...</td>\n",
       "      <td>WARMEX HOME APPLIANCES</td>\n",
       "      <td>HINDI</td>\n",
       "      <td>18121186N</td>\n",
       "      <td>0.0</td>\n",
       "      <td>NaN</td>\n",
       "      <td>2018-12-16</td>\n",
       "      <td>NaN</td>\n",
       "      <td>HOME APPLIANCES</td>\n",
       "      <td>1</td>\n",
       "      <td>1</td>\n",
       "    </tr>\n",
       "    <tr>\n",
       "      <th>4</th>\n",
       "      <td>NaN</td>\n",
       "      <td>06:08:55</td>\n",
       "      <td>GYAN GUL REFRESHMENT FULL-25 SEC</td>\n",
       "      <td>N012137</td>\n",
       "      <td>00:00:25:00</td>\n",
       "      <td>00:00:00:00</td>\n",
       "      <td>NaN</td>\n",
       "      <td>C</td>\n",
       "      <td>06:00 - 00:00</td>\n",
       "      <td>MCCANN ERICKSON INDIA PVT. LTD.(N)</td>\n",
       "      <td>...</td>\n",
       "      <td>SPRITE</td>\n",
       "      <td>HINDI</td>\n",
       "      <td>18121117N</td>\n",
       "      <td>977.5</td>\n",
       "      <td>NaN</td>\n",
       "      <td>2018-12-16</td>\n",
       "      <td>NaN</td>\n",
       "      <td>BEVERAGES</td>\n",
       "      <td>1</td>\n",
       "      <td>1</td>\n",
       "    </tr>\n",
       "  </tbody>\n",
       "</table>\n",
       "<p>5 rows × 21 columns</p>\n",
       "</div>"
      ],
      "text/plain": [
       "  FPC Time TeleCast Time                                Event Name   Job ID  \\\n",
       "0      NaN      06:08:10        NO SCAR FACE WASH REPEAT 10 SEC/NN  N014942   \n",
       "1      NaN      06:08:20                          PWL PROMO 10 SEC  NP00356   \n",
       "2      NaN      06:08:30                 ISOTINE CREATIVE 1 10-SEC  N014850   \n",
       "3      NaN      06:08:40  WARMEX PTC HEATER HUSBAND KITCHEN 15 SEC  N015128   \n",
       "4      NaN      06:08:55          GYAN GUL REFRESHMENT FULL-25 SEC  N012137   \n",
       "\n",
       "      Duration          SOM  Segment Spot Type RODP Deal Category  \\\n",
       "0  00:00:10:00  00:00:00:00      NaN         C      06:00 - 12:00   \n",
       "1  00:00:10:00  00:00:00:00      NaN         C      06:00 - 00:00   \n",
       "2  00:00:10:00  00:00:00:00      NaN         C      06:00 - 12:00   \n",
       "3  00:00:15:00  00:00:00:00      NaN         C      06:00 - 00:00   \n",
       "4  00:00:25:00  00:00:00:00      NaN         C      06:00 - 00:00   \n",
       "\n",
       "                               Agency    ...                      Brand  \\\n",
       "0                 BLUEFOX ADVERTISERS    ...           KETOMAC+NO SCARS   \n",
       "1                   PWL SEASON 4 2018    ...          PWL SEASON 4 2018   \n",
       "2                        JAGAT PHARMA    ...                    ISOTINE   \n",
       "3                 GRAPHISADS PVT LTD.    ...     WARMEX HOME APPLIANCES   \n",
       "4  MCCANN ERICKSON INDIA PVT. LTD.(N)    ...                     SPRITE   \n",
       "\n",
       "  Language BookingNumber Spot Rate  Commercial Duration Telecast Date  \\\n",
       "0    HINDI     18121070N    1000.0                  NaN    2018-12-16   \n",
       "1    HINDI     18121152N       0.0                  NaN    2018-12-16   \n",
       "2    HINDI     18121126N    1350.0                  NaN    2018-12-16   \n",
       "3    HINDI     18121186N       0.0                  NaN    2018-12-16   \n",
       "4    HINDI     18121117N     977.5                  NaN    2018-12-16   \n",
       "\n",
       "  Breakwise Commercial Total                                  Product  \\\n",
       "0                        NaN                                    CREAM   \n",
       "1                        NaN                                   SPORTS   \n",
       "2                        NaN  MEDICINES - HURBAL, AYURVEDIC / NATURAL   \n",
       "3                        NaN                          HOME APPLIANCES   \n",
       "4                        NaN                                BEVERAGES   \n",
       "\n",
       "  IsActive  Priority  \n",
       "0        1         1  \n",
       "1        1         1  \n",
       "2        1         1  \n",
       "3        1         1  \n",
       "4        1         1  \n",
       "\n",
       "[5 rows x 21 columns]"
      ]
     },
     "execution_count": 28,
     "metadata": {},
     "output_type": "execute_result"
    }
   ],
   "source": [
    "df.head()"
   ]
  },
  {
   "cell_type": "code",
   "execution_count": 30,
   "metadata": {},
   "outputs": [],
   "source": [
    "df['Count']=20\n",
    "df['no_of_breaks_miss']=0\n",
    "df['approx_breaks_for_one']=1\n",
    "df['LastBreakAppeared']=0\n",
    "def newbreak():\n",
    "    for index, rows in df.iterrows():\n",
    "        if(rows['Count']>0): rows['IsActive']=1  \n",
    "        else: rows['Count']=0\n",
    "        if rows['LastBreakAppeared']==0: rows['no_of_breaks_miss']+=1"
   ]
  },
  {
   "cell_type": "code",
   "execution_count": 31,
   "metadata": {},
   "outputs": [
    {
     "name": "stdout",
     "output_type": "stream",
     "text": [
      "<class 'pandas.core.frame.DataFrame'>\n",
      "Int64Index: 1041 entries, 0 to 1040\n",
      "Data columns (total 25 columns):\n",
      "FPC Time                      0 non-null object\n",
      "TeleCast Time                 1041 non-null object\n",
      "Event Name                    1041 non-null object\n",
      "Job ID                        1041 non-null object\n",
      "Duration                      1041 non-null object\n",
      "SOM                           1041 non-null object\n",
      "Segment                       0 non-null float64\n",
      "Spot Type                     1041 non-null object\n",
      "RODP Deal Category            1041 non-null object\n",
      "Agency                        1041 non-null object\n",
      "Client                        1041 non-null object\n",
      "Brand                         1041 non-null object\n",
      "Language                      1041 non-null object\n",
      "BookingNumber                 1041 non-null object\n",
      "Spot Rate                     1041 non-null float64\n",
      "Commercial Duration           0 non-null object\n",
      "Telecast Date                 1041 non-null datetime64[ns]\n",
      "Breakwise Commercial Total    0 non-null object\n",
      "Product                       1041 non-null object\n",
      "IsActive                      1041 non-null int64\n",
      "Priority                      1041 non-null int64\n",
      "Count                         1041 non-null int64\n",
      "no_of_breaks_miss             1041 non-null int64\n",
      "approx_breaks_for_one         1041 non-null int64\n",
      "LastBreakAppeared             1041 non-null int64\n",
      "dtypes: datetime64[ns](1), float64(2), int64(6), object(16)\n",
      "memory usage: 211.5+ KB\n"
     ]
    }
   ],
   "source": [
    "df.info()"
   ]
  },
  {
   "cell_type": "code",
   "execution_count": null,
   "metadata": {},
   "outputs": [],
   "source": []
  }
 ],
 "metadata": {
  "kernelspec": {
   "display_name": "Python 3",
   "language": "python",
   "name": "python3"
  },
  "language_info": {
   "codemirror_mode": {
    "name": "ipython",
    "version": 3
   },
   "file_extension": ".py",
   "mimetype": "text/x-python",
   "name": "python",
   "nbconvert_exporter": "python",
   "pygments_lexer": "ipython3",
   "version": "3.6.5"
  }
 },
 "nbformat": 4,
 "nbformat_minor": 2
}
